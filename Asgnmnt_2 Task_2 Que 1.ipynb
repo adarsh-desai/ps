{
 "cells": [
  {
   "cell_type": "code",
   "execution_count": 3,
   "metadata": {
    "collapsed": false
   },
   "outputs": [
    {
     "name": "stdout",
     "output_type": "stream",
     "text": [
      "Enter side one: 4\n",
      "Enter side two: 5\n",
      "Enter side three: 6\n",
      "7.5\n"
     ]
    },
    {
     "data": {
      "text/plain": [
       "9.921567416492215"
      ]
     },
     "execution_count": 3,
     "metadata": {},
     "output_type": "execute_result"
    }
   ],
   "source": [
    "class Length_of_triangle():\n",
    "    def __init__(self):\n",
    "        self.a = int(input(\"Enter side one: \"))\n",
    "        self.b = int(input(\"Enter side two: \"))\n",
    "        self.c = int(input(\"Enter side three: \"))\n",
    "        \n",
    "class Area_of_triangle(Length_of_triangle):\n",
    "    def area(self):\n",
    "        self.s = (self.a + self.b + self.c)/2\n",
    "        self.area = (self.s*(self.s-self.a)*(self.s-self.b)*(self.s-self.c))**0.5\n",
    "        print(self.s)\n",
    "        return self.area\n",
    "        \n",
    "abc = Area_of_triangle()\n",
    "abc.area()"
   ]
  },
  {
   "cell_type": "code",
   "execution_count": null,
   "metadata": {
    "collapsed": false
   },
   "outputs": [],
   "source": []
  },
  {
   "cell_type": "code",
   "execution_count": 4,
   "metadata": {
    "collapsed": false
   },
   "outputs": [
    {
     "data": {
      "text/plain": [
       "['abcdef', 'abcdefg', 'abcdefgh']"
      ]
     },
     "execution_count": 4,
     "metadata": {},
     "output_type": "execute_result"
    }
   ],
   "source": [
    "def filter_long_words(words,n):\n",
    "    long_words = []\n",
    "    for i in words:\n",
    "        if len(i)>n:\n",
    "            long_words.append(i)\n",
    "    return long_words\n",
    "filter_long_words(['abc','abcd','abcde','abcdef','abcdefg','abcdefgh'],5)\n"
   ]
  },
  {
   "cell_type": "code",
   "execution_count": null,
   "metadata": {
    "collapsed": true
   },
   "outputs": [],
   "source": []
  }
 ],
 "metadata": {
  "anaconda-cloud": {},
  "kernelspec": {
   "display_name": "Python [default]",
   "language": "python",
   "name": "python3"
  },
  "language_info": {
   "codemirror_mode": {
    "name": "ipython",
    "version": 3
   },
   "file_extension": ".py",
   "mimetype": "text/x-python",
   "name": "python",
   "nbconvert_exporter": "python",
   "pygments_lexer": "ipython3",
   "version": "3.5.2"
  }
 },
 "nbformat": 4,
 "nbformat_minor": 1
}
